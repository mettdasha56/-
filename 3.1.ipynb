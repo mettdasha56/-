{
 "cells": [
  {
   "metadata": {
    "ExecuteTime": {
     "end_time": "2025-10-16T12:10:21.406512Z",
     "start_time": "2025-10-16T12:10:21.399380Z"
    }
   },
   "cell_type": "code",
   "source": [
    "items = {\n",
    "'milk15':{'name': 'молоко 1.5%', 'count': 34, 'price': 89.9},\n",
    "'cheese':{'name': 'сыр молочный 1 кг.', 'count': 12, 'price': 990.9},\n",
    "'sausage':{'name': 'колбаса 1 кг.', 'count': 122, 'price': 1990.9}\n",
    "}\n",
    "\n",
    "price_less_20 = {k : (items[k]['count'] < 20) for k in items}\n",
    "print(f\"{price_less_20 = }\")"
   ],
   "id": "cb569c95af722b5",
   "outputs": [
    {
     "name": "stdout",
     "output_type": "stream",
     "text": [
      "price_less_20 = {'milk15': False, 'cheese': True, 'sausage': False}\n"
     ]
    }
   ],
   "execution_count": 3
  }
 ],
 "metadata": {},
 "nbformat": 4,
 "nbformat_minor": 5
}
