{
  "metadata": {
    "kernelspec": {
      "name": "xpython",
      "display_name": "Python 3.13 (XPython)",
      "language": "python"
    },
    "language_info": {
      "file_extension": ".py",
      "mimetype": "text/x-python",
      "name": "python",
      "version": "3.13.1"
    }
  },
  "nbformat_minor": 5,
  "nbformat": 4,
  "cells": [
    {
      "id": "604321e8-5340-43f0-a2b1-d6accf47bed3",
      "cell_type": "code",
      "source": "# Начало цикла, что бы не запускать заново\nwhile True:\n    word = input(\n        \"Введите слово(если хотите завершить напишите 0):\")  # Принимает значения, пока пользователь не введет 0\n    # Если пользователь ввел 0\n    if word == '0':\n        # Конец программы\n        break\n    # Если длина слова четное\n    if len(word) % 2 == 0:\n        w1 = word[:len(word) // 2]  # Берет первую половину слова\n        w2 = word[len(word) // 2:]  # Берет вторую половину слова\n        print(w1[-1] + w2[0])  # Выводит две средние буквы\n    else:\n        w1 = word[: len(word) // 2 + 1]  # Берет первую половину слова с средней букво\n        print(w1[-1])  # Выводит среднюю буквы\n",
      "metadata": {
        "trusted": true
      },
      "outputs": [],
      "execution_count": null
    }
  ]
}