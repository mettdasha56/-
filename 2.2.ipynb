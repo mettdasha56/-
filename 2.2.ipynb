{
  "metadata": {
    "kernelspec": {
      "name": "python",
      "display_name": "Python (Pyodide)",
      "language": "python"
    },
    "language_info": {
      "codemirror_mode": {
        "name": "python",
        "version": 3
      },
      "file_extension": ".py",
      "mimetype": "text/x-python",
      "name": "python",
      "nbconvert_exporter": "python",
      "pygments_lexer": "ipython3",
      "version": "3.8"
    }
  },
  "nbformat_minor": 5,
  "nbformat": 4,
  "cells": [
    {
      "id": "ea64b85b-eb91-4f1a-b8ae-de496d4079b0",
      "cell_type": "code",
      "source": "boys = []  # Список мальчиков\ngirls = []  # Список девочек\n# Начало цикла\nwhile True:\n    b = input(\"ВВедите имя мальчика (напишите 0 если хотите закончить):\")  # Заполняем список мальчиков\n    # Если пользователь вписал end\n    if b == '0':\n        # конец цикла\n        break\n    # добавляем в список boys\n    boys.append(b)\nboys.sort()  # сортируем список по алфавиту\n\n# Все тоже самое только для списка girls\nwhile True:\n    g = input(\"ВВедите имя девочки (напишите 0 если хотите закончить):\")\n    if g == '0':\n        break\n    girls.append(g)\ngirls.sort()\n\nparis = list(zip(boys,girls))#Пары\nparis2 = ' '.join(str(elements) for elements in paris)#Избавляемся от квадратных скобок\nprint(\"Пары:\",paris2)#Ответ\n\n#Если кто - то без пары\nif len(girls) != len(paris) or len(boys) != len(paris):\n    #Убираем у тех у кого есть пары\n    girls =','.join(girls[len(paris):])\n    boys = ','.join(boys[len(paris):])\n    #Выводим\n    print(\"Без пары:\",boys,girls)\n    \n\n",
      "metadata": {
        "trusted": true
      },
      "outputs": [],
      "execution_count": null
    },
    {
      "id": "4ae6e0cc-7fd6-4921-acce-aa754e307e6a",
      "cell_type": "code",
      "source": "",
      "metadata": {
        "trusted": true
      },
      "outputs": [],
      "execution_count": null
    }
  ]
}