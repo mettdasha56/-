{
  "metadata": {
    "kernelspec": {
      "name": "python",
      "display_name": "Python (Pyodide)",
      "language": "python"
    },
    "language_info": {
      "codemirror_mode": {
        "name": "python",
        "version": 3
      },
      "file_extension": ".py",
      "mimetype": "text/x-python",
      "name": "python",
      "nbconvert_exporter": "python",
      "pygments_lexer": "ipython3",
      "version": "3.8"
    }
  },
  "nbformat_minor": 5,
  "nbformat": 4,
  "cells": [
    {
      "id": "ea64b85b-eb91-4f1a-b8ae-de496d4079b0",
      "cell_type": "code",
      "source": "boys = []  # Список мальчиков\ngirls = []  # Список девочек\n# Начало цикла\nwhile True:\n    b = input(\"ВВедите имя мальчика (напишите 0 если хотите закончить):\")  # Заполняем список мальчиков\n    # Если пользователь вписал end\n    if b == '0':\n        # конец цикла\n        break\n    # добавляем в список boys\n    boys.append(b)\nboys.sort()  # сортируем список по алфавиту\n\n# Все тоже самое только для списка girls\nwhile True:\n    g = input(\"ВВедите имя девочки (напишите 0 если хотите закончить):\")\n    if g == '0':\n        break\n    girls.append(g)\ngirls.sort()\n\n# Проверяет максимум пар и перебираем по элементам списков\nfor i in range(min(len(boys), len(girls))):\n    # Выписываем пару\n    print(i + 1, boys[i], girls[i])\n    # Заменяем тех кто смог найти пару на 0\n    girls[i] = '0'\n    boys[i] = '0'\n# Убирает 0 элементы\ngirls = [x for x in girls if x != '0']\nboys = [x for x in boys if x != '0']\n# Переделывает список в строку\ngirls = ','.join(girls)\nboys = ','.join(boys)\n# Если остались без пары\nif girls != '' or boys != '':\n    print('без пары:', girls, boys)  # Выводит тех кто без пары\n",
      "metadata": {
        "trusted": true
      },
      "outputs": [],
      "execution_count": null
    },
    {
      "id": "4ae6e0cc-7fd6-4921-acce-aa754e307e6a",
      "cell_type": "code",
      "source": "",
      "metadata": {
        "trusted": true
      },
      "outputs": [],
      "execution_count": null
    }
  ]
}