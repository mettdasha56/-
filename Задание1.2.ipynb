{
  "metadata": {
    "kernelspec": {
      "name": "xpython",
      "display_name": "Python 3.13 (XPython)",
      "language": "python"
    },
    "language_info": {
      "file_extension": ".py",
      "mimetype": "text/x-python",
      "name": "python",
      "version": "3.13.1"
    }
  },
  "nbformat_minor": 5,
  "nbformat": 4,
  "cells": [
    {
      "id": "2d29e882-95e9-4632-8206-87cc33cc48b5",
      "cell_type": "code",
      "source": "#Вводится номер билета\nnumber = int(input(\"Введите номер билета -  шестизначное число (Если хотите закончить введите 0):\"))\n#Цикл while, чтобы не запускать несколько раз. Останавливается, если number равен 0\nwhile number != 0:\n    #Проверяет, является ли номер билета шестизначным числом\n    if len(str(number)) == 6:\n        n1 = number//1000 #Берется первые 3 числа\n        n2 = number % 1000 ##Берется последние 3 числа\n        #Проверяется схожа ли сумма первых 3х чисел и последних 3х чисел\n        if (n1//100+n1%100//10 + n1%10) == (n2//100+n2%100//10 + n2%10):\n            print(\"Счастливый билет :) \")\n        else:\n            print(\"Несчастливый билет :( \")\n        number = int(input(\"Введите номер билета -  шестизначное число (Если хотите закончить введите 0):\"))\n    #Если номер билета не шестизначное число\n    else:\n        number = int(input(\"Такого билета не существует :/ Пожалуйста,введите номер билета -  шестизначное число (Если хотите закончить введите 0):\"))",
      "metadata": {
        "trusted": true
      },
      "outputs": [],
      "execution_count": null
    }
  ]
}