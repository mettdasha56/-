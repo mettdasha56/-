{
  "metadata": {
    "kernelspec": {
      "name": "xpython",
      "display_name": "Python 3.13 (XPython)",
      "language": "python"
    },
    "language_info": {
      "file_extension": ".py",
      "mimetype": "text/x-python",
      "name": "python",
      "version": "3.13.1"
    }
  },
  "nbformat_minor": 5,
  "nbformat": 4,
  "cells": [
    {
      "id": "da5a090e-b00f-4bd3-a7c3-7527a0b35034",
      "cell_type": "code",
      "source": "#Вводится год\nyear = int(input(\"Введите год из четырёх цифр(если хотите завершить ввиде 0):\"))\n\n#цикл while,чтобы не запускать много раз. Останавиливается, если year равно 0\nwhile year != 0:\n    #Проверяется точно ли год из чеырёх цыфр\n    if len(str(year)) == 4:\n        #Проверяет делится ли число на 4\n        if year % 4 == 0:\n            print(\"Високосный год\")\n        #Если не делится\n        else:\n            print(\"Обычный год\")\n        year = int(input(\"Введите чгод из четырёх цифр(если хотите завершить ввиде 0):\"))\n    #Если год не из четырёх чисел\n    else:\n        year = int(input(\"Пожалуйста ввидите ГОД ИЗ ЧЕТЫРЁХ ЦИФР >:( \"))",
      "metadata": {
        "trusted": true
      },
      "outputs": [
        {
          "output_type": "stream",
          "name": "stdin",
          "text": "Введите год из четырёх цифр(если хотите завершить ввиде 0): 3444\n"
        },
        {
          "name": "stdout",
          "output_type": "stream",
          "text": "Год високосный\n"
        },
        {
          "output_type": "stream",
          "name": "stdin",
          "text": "Введите чгод из четырёх цифр(если хотите завершить ввиде 0): 0\n"
        }
      ],
      "execution_count": 1
    },
    {
      "id": "64260042-79ac-4a47-b7f2-f10bddeb3cae",
      "cell_type": "code",
      "source": "",
      "metadata": {
        "trusted": true
      },
      "outputs": [],
      "execution_count": null
    }
  ]
}